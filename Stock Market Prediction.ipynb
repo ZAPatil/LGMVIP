{
 "cells": [
  {
   "cell_type": "markdown",
   "metadata": {},
   "source": [
    "## Task-2 (Baginner Level) : Stock Market Prediction and Forecasting using Stacked LSTM"
   ]
  },
  {
   "cell_type": "markdown",
   "metadata": {},
   "source": [
    "## Author: Zashi Avinash Patil"
   ]
  },
  {
   "cell_type": "code",
   "execution_count": null,
   "metadata": {},
   "outputs": [],
   "source": []
  },
  {
   "cell_type": "markdown",
   "metadata": {},
   "source": [
    "## Importing Required Libraries"
   ]
  },
  {
   "cell_type": "code",
   "execution_count": 1,
   "metadata": {},
   "outputs": [],
   "source": [
    "import pandas as pd\n",
    "import matplotlib.pyplot as plt\n",
    "import numpy as np"
   ]
  },
  {
   "cell_type": "code",
   "execution_count": 2,
   "metadata": {},
   "outputs": [
    {
     "data": {
      "text/html": [
       "<div>\n",
       "<style scoped>\n",
       "    .dataframe tbody tr th:only-of-type {\n",
       "        vertical-align: middle;\n",
       "    }\n",
       "\n",
       "    .dataframe tbody tr th {\n",
       "        vertical-align: top;\n",
       "    }\n",
       "\n",
       "    .dataframe thead th {\n",
       "        text-align: right;\n",
       "    }\n",
       "</style>\n",
       "<table border=\"1\" class=\"dataframe\">\n",
       "  <thead>\n",
       "    <tr style=\"text-align: right;\">\n",
       "      <th></th>\n",
       "      <th>Date</th>\n",
       "      <th>Open</th>\n",
       "      <th>High</th>\n",
       "      <th>Low</th>\n",
       "      <th>Last</th>\n",
       "      <th>Close</th>\n",
       "      <th>Total Trade Quantity</th>\n",
       "      <th>Turnover (Lacs)</th>\n",
       "    </tr>\n",
       "  </thead>\n",
       "  <tbody>\n",
       "    <tr>\n",
       "      <th>0</th>\n",
       "      <td>2018-09-28</td>\n",
       "      <td>234.05</td>\n",
       "      <td>235.95</td>\n",
       "      <td>230.20</td>\n",
       "      <td>233.50</td>\n",
       "      <td>233.75</td>\n",
       "      <td>3069914</td>\n",
       "      <td>7162.35</td>\n",
       "    </tr>\n",
       "    <tr>\n",
       "      <th>1</th>\n",
       "      <td>2018-09-27</td>\n",
       "      <td>234.55</td>\n",
       "      <td>236.80</td>\n",
       "      <td>231.10</td>\n",
       "      <td>233.80</td>\n",
       "      <td>233.25</td>\n",
       "      <td>5082859</td>\n",
       "      <td>11859.95</td>\n",
       "    </tr>\n",
       "    <tr>\n",
       "      <th>2</th>\n",
       "      <td>2018-09-26</td>\n",
       "      <td>240.00</td>\n",
       "      <td>240.00</td>\n",
       "      <td>232.50</td>\n",
       "      <td>235.00</td>\n",
       "      <td>234.25</td>\n",
       "      <td>2240909</td>\n",
       "      <td>5248.60</td>\n",
       "    </tr>\n",
       "    <tr>\n",
       "      <th>3</th>\n",
       "      <td>2018-09-25</td>\n",
       "      <td>233.30</td>\n",
       "      <td>236.75</td>\n",
       "      <td>232.00</td>\n",
       "      <td>236.25</td>\n",
       "      <td>236.10</td>\n",
       "      <td>2349368</td>\n",
       "      <td>5503.90</td>\n",
       "    </tr>\n",
       "    <tr>\n",
       "      <th>4</th>\n",
       "      <td>2018-09-24</td>\n",
       "      <td>233.55</td>\n",
       "      <td>239.20</td>\n",
       "      <td>230.75</td>\n",
       "      <td>234.00</td>\n",
       "      <td>233.30</td>\n",
       "      <td>3423509</td>\n",
       "      <td>7999.55</td>\n",
       "    </tr>\n",
       "    <tr>\n",
       "      <th>...</th>\n",
       "      <td>...</td>\n",
       "      <td>...</td>\n",
       "      <td>...</td>\n",
       "      <td>...</td>\n",
       "      <td>...</td>\n",
       "      <td>...</td>\n",
       "      <td>...</td>\n",
       "      <td>...</td>\n",
       "    </tr>\n",
       "    <tr>\n",
       "      <th>2030</th>\n",
       "      <td>2010-07-27</td>\n",
       "      <td>117.60</td>\n",
       "      <td>119.50</td>\n",
       "      <td>112.00</td>\n",
       "      <td>118.80</td>\n",
       "      <td>118.65</td>\n",
       "      <td>586100</td>\n",
       "      <td>694.98</td>\n",
       "    </tr>\n",
       "    <tr>\n",
       "      <th>2031</th>\n",
       "      <td>2010-07-26</td>\n",
       "      <td>120.10</td>\n",
       "      <td>121.00</td>\n",
       "      <td>117.10</td>\n",
       "      <td>117.10</td>\n",
       "      <td>117.60</td>\n",
       "      <td>658440</td>\n",
       "      <td>780.01</td>\n",
       "    </tr>\n",
       "    <tr>\n",
       "      <th>2032</th>\n",
       "      <td>2010-07-23</td>\n",
       "      <td>121.80</td>\n",
       "      <td>121.95</td>\n",
       "      <td>120.25</td>\n",
       "      <td>120.35</td>\n",
       "      <td>120.65</td>\n",
       "      <td>281312</td>\n",
       "      <td>340.31</td>\n",
       "    </tr>\n",
       "    <tr>\n",
       "      <th>2033</th>\n",
       "      <td>2010-07-22</td>\n",
       "      <td>120.30</td>\n",
       "      <td>122.00</td>\n",
       "      <td>120.25</td>\n",
       "      <td>120.75</td>\n",
       "      <td>120.90</td>\n",
       "      <td>293312</td>\n",
       "      <td>355.17</td>\n",
       "    </tr>\n",
       "    <tr>\n",
       "      <th>2034</th>\n",
       "      <td>2010-07-21</td>\n",
       "      <td>122.10</td>\n",
       "      <td>123.00</td>\n",
       "      <td>121.05</td>\n",
       "      <td>121.10</td>\n",
       "      <td>121.55</td>\n",
       "      <td>658666</td>\n",
       "      <td>803.56</td>\n",
       "    </tr>\n",
       "  </tbody>\n",
       "</table>\n",
       "<p>2035 rows × 8 columns</p>\n",
       "</div>"
      ],
      "text/plain": [
       "            Date    Open    High     Low    Last   Close  \\\n",
       "0     2018-09-28  234.05  235.95  230.20  233.50  233.75   \n",
       "1     2018-09-27  234.55  236.80  231.10  233.80  233.25   \n",
       "2     2018-09-26  240.00  240.00  232.50  235.00  234.25   \n",
       "3     2018-09-25  233.30  236.75  232.00  236.25  236.10   \n",
       "4     2018-09-24  233.55  239.20  230.75  234.00  233.30   \n",
       "...          ...     ...     ...     ...     ...     ...   \n",
       "2030  2010-07-27  117.60  119.50  112.00  118.80  118.65   \n",
       "2031  2010-07-26  120.10  121.00  117.10  117.10  117.60   \n",
       "2032  2010-07-23  121.80  121.95  120.25  120.35  120.65   \n",
       "2033  2010-07-22  120.30  122.00  120.25  120.75  120.90   \n",
       "2034  2010-07-21  122.10  123.00  121.05  121.10  121.55   \n",
       "\n",
       "      Total Trade Quantity  Turnover (Lacs)  \n",
       "0                  3069914          7162.35  \n",
       "1                  5082859         11859.95  \n",
       "2                  2240909          5248.60  \n",
       "3                  2349368          5503.90  \n",
       "4                  3423509          7999.55  \n",
       "...                    ...              ...  \n",
       "2030                586100           694.98  \n",
       "2031                658440           780.01  \n",
       "2032                281312           340.31  \n",
       "2033                293312           355.17  \n",
       "2034                658666           803.56  \n",
       "\n",
       "[2035 rows x 8 columns]"
      ]
     },
     "execution_count": 2,
     "metadata": {},
     "output_type": "execute_result"
    }
   ],
   "source": [
    "#reading the data and display the records\n",
    "df = pd.read_csv(\"https://raw.githubusercontent.com/mwitiderrick/stockprice/master/NSE-TATAGLOBAL.csv\")\n",
    "df"
   ]
  },
  {
   "cell_type": "code",
   "execution_count": null,
   "metadata": {},
   "outputs": [],
   "source": []
  },
  {
   "cell_type": "markdown",
   "metadata": {},
   "source": [
    "## Analyzing the data"
   ]
  },
  {
   "cell_type": "code",
   "execution_count": 3,
   "metadata": {},
   "outputs": [
    {
     "data": {
      "text/plain": [
       "(2035, 8)"
      ]
     },
     "execution_count": 3,
     "metadata": {},
     "output_type": "execute_result"
    }
   ],
   "source": [
    "df.shape"
   ]
  },
  {
   "cell_type": "code",
   "execution_count": 4,
   "metadata": {},
   "outputs": [
    {
     "data": {
      "text/plain": [
       "Date                     object\n",
       "Open                    float64\n",
       "High                    float64\n",
       "Low                     float64\n",
       "Last                    float64\n",
       "Close                   float64\n",
       "Total Trade Quantity      int64\n",
       "Turnover (Lacs)         float64\n",
       "dtype: object"
      ]
     },
     "execution_count": 4,
     "metadata": {},
     "output_type": "execute_result"
    }
   ],
   "source": [
    "#check the datatypes\n",
    "df.dtypes"
   ]
  },
  {
   "cell_type": "code",
   "execution_count": 5,
   "metadata": {},
   "outputs": [
    {
     "data": {
      "text/plain": [
       "Date                    0\n",
       "Open                    0\n",
       "High                    0\n",
       "Low                     0\n",
       "Last                    0\n",
       "Close                   0\n",
       "Total Trade Quantity    0\n",
       "Turnover (Lacs)         0\n",
       "dtype: int64"
      ]
     },
     "execution_count": 5,
     "metadata": {},
     "output_type": "execute_result"
    }
   ],
   "source": [
    "#check if null values\n",
    "df.isna().sum()"
   ]
  },
  {
   "cell_type": "code",
   "execution_count": 6,
   "metadata": {},
   "outputs": [
    {
     "data": {
      "text/html": [
       "<div>\n",
       "<style scoped>\n",
       "    .dataframe tbody tr th:only-of-type {\n",
       "        vertical-align: middle;\n",
       "    }\n",
       "\n",
       "    .dataframe tbody tr th {\n",
       "        vertical-align: top;\n",
       "    }\n",
       "\n",
       "    .dataframe thead th {\n",
       "        text-align: right;\n",
       "    }\n",
       "</style>\n",
       "<table border=\"1\" class=\"dataframe\">\n",
       "  <thead>\n",
       "    <tr style=\"text-align: right;\">\n",
       "      <th></th>\n",
       "      <th>Open</th>\n",
       "      <th>High</th>\n",
       "      <th>Low</th>\n",
       "      <th>Last</th>\n",
       "      <th>Close</th>\n",
       "      <th>Total Trade Quantity</th>\n",
       "      <th>Turnover (Lacs)</th>\n",
       "    </tr>\n",
       "  </thead>\n",
       "  <tbody>\n",
       "    <tr>\n",
       "      <th>count</th>\n",
       "      <td>2035.000000</td>\n",
       "      <td>2035.000000</td>\n",
       "      <td>2035.000000</td>\n",
       "      <td>2035.000000</td>\n",
       "      <td>2035.00000</td>\n",
       "      <td>2.035000e+03</td>\n",
       "      <td>2035.000000</td>\n",
       "    </tr>\n",
       "    <tr>\n",
       "      <th>mean</th>\n",
       "      <td>149.713735</td>\n",
       "      <td>151.992826</td>\n",
       "      <td>147.293931</td>\n",
       "      <td>149.474251</td>\n",
       "      <td>149.45027</td>\n",
       "      <td>2.335681e+06</td>\n",
       "      <td>3899.980565</td>\n",
       "    </tr>\n",
       "    <tr>\n",
       "      <th>std</th>\n",
       "      <td>48.664509</td>\n",
       "      <td>49.413109</td>\n",
       "      <td>47.931958</td>\n",
       "      <td>48.732570</td>\n",
       "      <td>48.71204</td>\n",
       "      <td>2.091778e+06</td>\n",
       "      <td>4570.767877</td>\n",
       "    </tr>\n",
       "    <tr>\n",
       "      <th>min</th>\n",
       "      <td>81.100000</td>\n",
       "      <td>82.800000</td>\n",
       "      <td>80.000000</td>\n",
       "      <td>81.000000</td>\n",
       "      <td>80.95000</td>\n",
       "      <td>3.961000e+04</td>\n",
       "      <td>37.040000</td>\n",
       "    </tr>\n",
       "    <tr>\n",
       "      <th>25%</th>\n",
       "      <td>120.025000</td>\n",
       "      <td>122.100000</td>\n",
       "      <td>118.300000</td>\n",
       "      <td>120.075000</td>\n",
       "      <td>120.05000</td>\n",
       "      <td>1.146444e+06</td>\n",
       "      <td>1427.460000</td>\n",
       "    </tr>\n",
       "    <tr>\n",
       "      <th>50%</th>\n",
       "      <td>141.500000</td>\n",
       "      <td>143.400000</td>\n",
       "      <td>139.600000</td>\n",
       "      <td>141.100000</td>\n",
       "      <td>141.25000</td>\n",
       "      <td>1.783456e+06</td>\n",
       "      <td>2512.030000</td>\n",
       "    </tr>\n",
       "    <tr>\n",
       "      <th>75%</th>\n",
       "      <td>157.175000</td>\n",
       "      <td>159.400000</td>\n",
       "      <td>155.150000</td>\n",
       "      <td>156.925000</td>\n",
       "      <td>156.90000</td>\n",
       "      <td>2.813594e+06</td>\n",
       "      <td>4539.015000</td>\n",
       "    </tr>\n",
       "    <tr>\n",
       "      <th>max</th>\n",
       "      <td>327.700000</td>\n",
       "      <td>328.750000</td>\n",
       "      <td>321.650000</td>\n",
       "      <td>325.950000</td>\n",
       "      <td>325.75000</td>\n",
       "      <td>2.919102e+07</td>\n",
       "      <td>55755.080000</td>\n",
       "    </tr>\n",
       "  </tbody>\n",
       "</table>\n",
       "</div>"
      ],
      "text/plain": [
       "              Open         High          Low         Last       Close  \\\n",
       "count  2035.000000  2035.000000  2035.000000  2035.000000  2035.00000   \n",
       "mean    149.713735   151.992826   147.293931   149.474251   149.45027   \n",
       "std      48.664509    49.413109    47.931958    48.732570    48.71204   \n",
       "min      81.100000    82.800000    80.000000    81.000000    80.95000   \n",
       "25%     120.025000   122.100000   118.300000   120.075000   120.05000   \n",
       "50%     141.500000   143.400000   139.600000   141.100000   141.25000   \n",
       "75%     157.175000   159.400000   155.150000   156.925000   156.90000   \n",
       "max     327.700000   328.750000   321.650000   325.950000   325.75000   \n",
       "\n",
       "       Total Trade Quantity  Turnover (Lacs)  \n",
       "count          2.035000e+03      2035.000000  \n",
       "mean           2.335681e+06      3899.980565  \n",
       "std            2.091778e+06      4570.767877  \n",
       "min            3.961000e+04        37.040000  \n",
       "25%            1.146444e+06      1427.460000  \n",
       "50%            1.783456e+06      2512.030000  \n",
       "75%            2.813594e+06      4539.015000  \n",
       "max            2.919102e+07     55755.080000  "
      ]
     },
     "execution_count": 6,
     "metadata": {},
     "output_type": "execute_result"
    }
   ],
   "source": [
    "#statistical information\n",
    "df.describe()"
   ]
  },
  {
   "cell_type": "code",
   "execution_count": 7,
   "metadata": {},
   "outputs": [],
   "source": [
    "df2 = df.reset_index()['Close']"
   ]
  },
  {
   "cell_type": "code",
   "execution_count": 8,
   "metadata": {},
   "outputs": [
    {
     "data": {
      "text/plain": [
       "0       233.75\n",
       "1       233.25\n",
       "2       234.25\n",
       "3       236.10\n",
       "4       233.30\n",
       "         ...  \n",
       "2030    118.65\n",
       "2031    117.60\n",
       "2032    120.65\n",
       "2033    120.90\n",
       "2034    121.55\n",
       "Name: Close, Length: 2035, dtype: float64"
      ]
     },
     "execution_count": 8,
     "metadata": {},
     "output_type": "execute_result"
    }
   ],
   "source": [
    "df2"
   ]
  },
  {
   "cell_type": "code",
   "execution_count": 9,
   "metadata": {},
   "outputs": [
    {
     "data": {
      "text/plain": [
       "(2035,)"
      ]
     },
     "execution_count": 9,
     "metadata": {},
     "output_type": "execute_result"
    }
   ],
   "source": [
    "#take only close column and store it in df2\n",
    "df2.shape"
   ]
  },
  {
   "cell_type": "code",
   "execution_count": 10,
   "metadata": {},
   "outputs": [
    {
     "data": {
      "text/plain": [
       "[<matplotlib.lines.Line2D at 0x20d76597cd0>]"
      ]
     },
     "execution_count": 10,
     "metadata": {},
     "output_type": "execute_result"
    },
    {
     "data": {
      "image/png": "[encoded data removed]",
      "text/plain": [
       "<Figure size 432x288 with 1 Axes>"
      ]
     },
     "metadata": {
      "needs_background": "light"
     },
     "output_type": "display_data"
    }
   ],
   "source": [
    "#Data representation using graph\n",
    "plt.plot(df2)"
   ]
  },
  {
   "cell_type": "code",
   "execution_count": null,
   "metadata": {},
   "outputs": [],
   "source": []
  },
  {
   "cell_type": "markdown",
   "metadata": {},
   "source": [
    "## Feature Scaling"
   ]
  },
  {
   "cell_type": "code",
   "execution_count": 11,
   "metadata": {},
   "outputs": [],
   "source": [
    "# LSTM is very sensitive to scale of data, so apply MinMax scaling"
   ]
  },
  {
   "cell_type": "code",
   "execution_count": 12,
   "metadata": {},
   "outputs": [],
   "source": [
    "from sklearn.preprocessing import MinMaxScaler\n",
    "scaler = MinMaxScaler(feature_range=(0,1))\n",
    "df2 = scaler.fit_transform(np.array(df2).reshape(-1,1))"
   ]
  },
  {
   "cell_type": "code",
   "execution_count": 13,
   "metadata": {},
   "outputs": [
    {
     "data": {
      "text/plain": [
       "array([[0.62418301],\n",
       "       [0.62214052],\n",
       "       [0.62622549],\n",
       "       ...,\n",
       "       [0.1621732 ],\n",
       "       [0.16319444],\n",
       "       [0.16584967]])"
      ]
     },
     "execution_count": 13,
     "metadata": {},
     "output_type": "execute_result"
    }
   ],
   "source": [
    "df2"
   ]
  },
  {
   "cell_type": "code",
   "execution_count": 14,
   "metadata": {},
   "outputs": [
    {
     "data": {
      "text/plain": [
       "(2035, 1)"
      ]
     },
     "execution_count": 14,
     "metadata": {},
     "output_type": "execute_result"
    }
   ],
   "source": [
    "df2.shape"
   ]
  },
  {
   "cell_type": "markdown",
   "metadata": {},
   "source": [
    "## Splitting dataset into training and testing"
   ]
  },
  {
   "cell_type": "code",
   "execution_count": 15,
   "metadata": {},
   "outputs": [],
   "source": [
    "training_size = int(len(df2)*0.65)\n",
    "test_size = len(df2)-training_size\n",
    "train_data, test_data = df2[0:training_size,:],df2[training_size:len(df2):1]"
   ]
  },
  {
   "cell_type": "code",
   "execution_count": 16,
   "metadata": {},
   "outputs": [
    {
     "data": {
      "text/plain": [
       "(1322, 713)"
      ]
     },
     "execution_count": 16,
     "metadata": {},
     "output_type": "execute_result"
    }
   ],
   "source": [
    "training_size, test_size"
   ]
  },
  {
   "cell_type": "code",
   "execution_count": 17,
   "metadata": {},
   "outputs": [],
   "source": [
    "import numpy\n",
    "#convert an array of values into a dataset matrix\n",
    "def create_dataset(dataset,time_step=1):\n",
    "    dataX, dataY= [], []\n",
    "    for i in range(len(dataset)-time_step-1):\n",
    "        a = dataset[i:(i+time_step), 0]\n",
    "        dataX.append(a)\n",
    "        dataY.append(dataset[i+time_step,0])\n",
    "    return numpy.array(dataX), numpy.array(dataY)"
   ]
  },
  {
   "cell_type": "code",
   "execution_count": 18,
   "metadata": {},
   "outputs": [],
   "source": [
    "time_step = 100\n",
    "X_train, y_train = create_dataset(train_data, time_step)\n",
    "X_test, y_test = create_dataset(test_data, time_step)"
   ]
  },
  {
   "cell_type": "code",
   "execution_count": 19,
   "metadata": {},
   "outputs": [
    {
     "data": {
      "text/plain": [
       "(1221, 100)"
      ]
     },
     "execution_count": 19,
     "metadata": {},
     "output_type": "execute_result"
    }
   ],
   "source": [
    "X_train.shape"
   ]
  },
  {
   "cell_type": "code",
   "execution_count": 20,
   "metadata": {},
   "outputs": [
    {
     "data": {
      "text/plain": [
       "(1221,)"
      ]
     },
     "execution_count": 20,
     "metadata": {},
     "output_type": "execute_result"
    }
   ],
   "source": [
    "y_train.shape"
   ]
  },
  {
   "cell_type": "code",
   "execution_count": 21,
   "metadata": {},
   "outputs": [
    {
     "data": {
      "text/plain": [
       "(612, 100)"
      ]
     },
     "execution_count": 21,
     "metadata": {},
     "output_type": "execute_result"
    }
   ],
   "source": [
    "X_test.shape"
   ]
  },
  {
   "cell_type": "code",
   "execution_count": 22,
   "metadata": {},
   "outputs": [
    {
     "data": {
      "text/plain": [
       "(612,)"
      ]
     },
     "execution_count": 22,
     "metadata": {},
     "output_type": "execute_result"
    }
   ],
   "source": [
    "y_test.shape"
   ]
  },
  {
   "cell_type": "code",
   "execution_count": 23,
   "metadata": {},
   "outputs": [],
   "source": [
    "#reshape input to be [samples, time_step, features]which required for LSTM\n",
    "X_train = X_train.reshape(X_train.shape[0], X_train.shape[1],1)\n",
    "X_test = X_test.reshape(X_test.shape[0], X_test.shape[1],1)"
   ]
  },
  {
   "cell_type": "markdown",
   "metadata": {},
   "source": [
    "## Create stacked LSTM model"
   ]
  },
  {
   "cell_type": "code",
   "execution_count": 24,
   "metadata": {},
   "outputs": [],
   "source": [
    "from tensorflow.keras.models import Sequential\n",
    "from tensorflow.keras.layers import Dense\n",
    "from tensorflow.keras.layers import LSTM"
   ]
  },
  {
   "cell_type": "code",
   "execution_count": 25,
   "metadata": {},
   "outputs": [],
   "source": [
    "model = Sequential()\n",
    "model.add(LSTM(50, return_sequences=True, input_shape=(100,1)))\n",
    "model.add(LSTM(50, return_sequences=True))\n",
    "model.add(LSTM(50))\n",
    "model.add(Dense(1))\n",
    "model.compile(loss=\"mean_squared_error\", optimizer='adam')"
   ]
  },
  {
   "cell_type": "code",
   "execution_count": 26,
   "metadata": {},
   "outputs": [
    {
     "name": "stdout",
     "output_type": "stream",
     "text": [
      "Model: \"sequential\"\n",
      "_________________________________________________________________\n",
      " Layer (type)                Output Shape              Param #   \n",
      "=================================================================\n",
      " lstm (LSTM)                 (None, 100, 50)           10400     \n",
      "                                                                 \n",
      " lstm_1 (LSTM)               (None, 100, 50)           20200     \n",
      "                                                                 \n",
      " lstm_2 (LSTM)               (None, 50)                20200     \n",
      "                                                                 \n",
      " dense (Dense)               (None, 1)                 51        \n",
      "                                                                 \n",
      "=================================================================\n",
      "Total params: 50,851\n",
      "Trainable params: 50,851\n",
      "Non-trainable params: 0\n",
      "_________________________________________________________________\n"
     ]
    }
   ],
   "source": [
    "model.summary()"
   ]
  },
  {
   "cell_type": "code",
   "execution_count": 27,
   "metadata": {},
   "outputs": [
    {
     "name": "stdout",
     "output_type": "stream",
     "text": [
      "Epoch 1/100\n",
      "20/20 [==============================] - 15s 285ms/step - loss: 0.0232 - val_loss: 0.0059\n",
      "Epoch 2/100\n",
      "20/20 [==============================] - 4s 207ms/step - loss: 0.0040 - val_loss: 0.0018\n",
      "Epoch 3/100\n",
      "20/20 [==============================] - 4s 207ms/step - loss: 0.0019 - val_loss: 7.9373e-04\n",
      "Epoch 4/100\n",
      "20/20 [==============================] - 4s 208ms/step - loss: 0.0021 - val_loss: 0.0011\n",
      "Epoch 5/100\n",
      "20/20 [==============================] - 4s 220ms/step - loss: 0.0017 - val_loss: 0.0011\n",
      "Epoch 6/100\n",
      "20/20 [==============================] - 5s 258ms/step - loss: 0.0014 - val_loss: 9.9914e-04\n",
      "Epoch 7/100\n",
      "20/20 [==============================] - 4s 219ms/step - loss: 0.0014 - val_loss: 0.0013\n",
      "Epoch 8/100\n",
      "20/20 [==============================] - 4s 223ms/step - loss: 0.0013 - val_loss: 0.0011\n",
      "Epoch 9/100\n",
      "20/20 [==============================] - 4s 211ms/step - loss: 0.0013 - val_loss: 9.6596e-04\n",
      "Epoch 10/100\n",
      "20/20 [==============================] - 4s 213ms/step - loss: 0.0012 - val_loss: 0.0012\n",
      "Epoch 11/100\n",
      "20/20 [==============================] - 4s 209ms/step - loss: 0.0012 - val_loss: 0.0011\n",
      "Epoch 12/100\n",
      "20/20 [==============================] - 4s 208ms/step - loss: 0.0011 - val_loss: 0.0011\n",
      "Epoch 13/100\n",
      "20/20 [==============================] - 4s 208ms/step - loss: 9.5080e-04 - val_loss: 7.7058e-04\n",
      "Epoch 14/100\n",
      "20/20 [==============================] - 4s 207ms/step - loss: 9.1041e-04 - val_loss: 0.0010\n",
      "Epoch 15/100\n",
      "20/20 [==============================] - 4s 208ms/step - loss: 9.8239e-04 - val_loss: 0.0011\n",
      "Epoch 16/100\n",
      "20/20 [==============================] - 4s 211ms/step - loss: 8.8381e-04 - val_loss: 9.3503e-04\n",
      "Epoch 17/100\n",
      "20/20 [==============================] - 4s 216ms/step - loss: 7.8834e-04 - val_loss: 7.2596e-04\n",
      "Epoch 18/100\n",
      "20/20 [==============================] - 4s 209ms/step - loss: 7.7070e-04 - val_loss: 7.3541e-04\n",
      "Epoch 19/100\n",
      "20/20 [==============================] - 4s 209ms/step - loss: 8.8614e-04 - val_loss: 8.5940e-04\n",
      "Epoch 20/100\n",
      "20/20 [==============================] - 4s 210ms/step - loss: 8.4393e-04 - val_loss: 0.0010\n",
      "Epoch 21/100\n",
      "20/20 [==============================] - 4s 211ms/step - loss: 7.7648e-04 - val_loss: 0.0010\n",
      "Epoch 22/100\n",
      "20/20 [==============================] - 4s 210ms/step - loss: 7.1442e-04 - val_loss: 6.8234e-04\n",
      "Epoch 23/100\n",
      "20/20 [==============================] - 4s 209ms/step - loss: 7.3757e-04 - val_loss: 0.0011\n",
      "Epoch 24/100\n",
      "20/20 [==============================] - 4s 210ms/step - loss: 8.3813e-04 - val_loss: 8.8121e-04\n",
      "Epoch 25/100\n",
      "20/20 [==============================] - 4s 212ms/step - loss: 7.2249e-04 - val_loss: 9.8228e-04\n",
      "Epoch 26/100\n",
      "20/20 [==============================] - 4s 209ms/step - loss: 7.8279e-04 - val_loss: 8.1414e-04\n",
      "Epoch 27/100\n",
      "20/20 [==============================] - 4s 209ms/step - loss: 6.9274e-04 - val_loss: 6.9870e-04\n",
      "Epoch 28/100\n",
      "20/20 [==============================] - 4s 213ms/step - loss: 7.4341e-04 - val_loss: 7.1091e-04\n",
      "Epoch 29/100\n",
      "20/20 [==============================] - 4s 208ms/step - loss: 6.1767e-04 - val_loss: 6.0865e-04\n",
      "Epoch 30/100\n",
      "20/20 [==============================] - 4s 210ms/step - loss: 5.7969e-04 - val_loss: 6.1805e-04\n",
      "Epoch 31/100\n",
      "20/20 [==============================] - 4s 208ms/step - loss: 5.8489e-04 - val_loss: 6.4196e-04\n",
      "Epoch 32/100\n",
      "20/20 [==============================] - 5s 239ms/step - loss: 5.5943e-04 - val_loss: 6.1626e-04\n",
      "Epoch 33/100\n",
      "20/20 [==============================] - 4s 213ms/step - loss: 5.6129e-04 - val_loss: 7.9057e-04\n",
      "Epoch 34/100\n",
      "20/20 [==============================] - 5s 227ms/step - loss: 5.8400e-04 - val_loss: 6.8302e-04\n",
      "Epoch 35/100\n",
      "20/20 [==============================] - 4s 219ms/step - loss: 5.9520e-04 - val_loss: 5.7261e-04\n",
      "Epoch 36/100\n",
      "20/20 [==============================] - 5s 227ms/step - loss: 5.6006e-04 - val_loss: 5.8506e-04\n",
      "Epoch 37/100\n",
      "20/20 [==============================] - 4s 214ms/step - loss: 5.6371e-04 - val_loss: 5.8269e-04\n",
      "Epoch 38/100\n",
      "20/20 [==============================] - 4s 222ms/step - loss: 5.6452e-04 - val_loss: 6.7759e-04\n",
      "Epoch 39/100\n",
      "20/20 [==============================] - 5s 233ms/step - loss: 5.0846e-04 - val_loss: 6.2362e-04\n",
      "Epoch 40/100\n",
      "20/20 [==============================] - 4s 224ms/step - loss: 5.2654e-04 - val_loss: 4.7303e-04\n",
      "Epoch 41/100\n",
      "20/20 [==============================] - 4s 220ms/step - loss: 5.9958e-04 - val_loss: 7.0297e-04\n",
      "Epoch 42/100\n",
      "20/20 [==============================] - 4s 221ms/step - loss: 5.2708e-04 - val_loss: 4.5503e-04\n",
      "Epoch 43/100\n",
      "20/20 [==============================] - 4s 216ms/step - loss: 5.3888e-04 - val_loss: 6.2060e-04\n",
      "Epoch 44/100\n",
      "20/20 [==============================] - 4s 226ms/step - loss: 5.1109e-04 - val_loss: 6.0555e-04\n",
      "Epoch 45/100\n",
      "20/20 [==============================] - 4s 221ms/step - loss: 4.5982e-04 - val_loss: 6.3375e-04\n",
      "Epoch 46/100\n",
      "20/20 [==============================] - 4s 212ms/step - loss: 4.5641e-04 - val_loss: 5.6261e-04\n",
      "Epoch 47/100\n",
      "20/20 [==============================] - 4s 212ms/step - loss: 4.9368e-04 - val_loss: 4.8202e-04\n",
      "Epoch 48/100\n",
      "20/20 [==============================] - 4s 213ms/step - loss: 4.6228e-04 - val_loss: 5.5395e-04\n",
      "Epoch 49/100\n",
      "20/20 [==============================] - 4s 214ms/step - loss: 4.5715e-04 - val_loss: 5.0001e-04\n",
      "Epoch 50/100\n",
      "20/20 [==============================] - 4s 216ms/step - loss: 4.3402e-04 - val_loss: 4.8350e-04\n",
      "Epoch 51/100\n",
      "20/20 [==============================] - 5s 228ms/step - loss: 4.2070e-04 - val_loss: 4.3260e-04\n",
      "Epoch 52/100\n",
      "20/20 [==============================] - 5s 228ms/step - loss: 4.2575e-04 - val_loss: 5.4599e-04\n",
      "Epoch 53/100\n",
      "20/20 [==============================] - 4s 223ms/step - loss: 5.3061e-04 - val_loss: 4.5403e-04\n",
      "Epoch 54/100\n",
      "20/20 [==============================] - 4s 220ms/step - loss: 4.2923e-04 - val_loss: 5.9846e-04\n",
      "Epoch 55/100\n",
      "20/20 [==============================] - 4s 222ms/step - loss: 4.6775e-04 - val_loss: 4.6885e-04\n",
      "Epoch 56/100\n",
      "20/20 [==============================] - 5s 271ms/step - loss: 4.3441e-04 - val_loss: 5.3813e-04\n",
      "Epoch 57/100\n",
      "20/20 [==============================] - 4s 223ms/step - loss: 4.5257e-04 - val_loss: 3.9464e-04\n",
      "Epoch 58/100\n",
      "20/20 [==============================] - 4s 225ms/step - loss: 4.2656e-04 - val_loss: 3.6817e-04\n",
      "Epoch 59/100\n",
      "20/20 [==============================] - 4s 226ms/step - loss: 3.8002e-04 - val_loss: 4.1530e-04\n",
      "Epoch 60/100\n",
      "20/20 [==============================] - 4s 221ms/step - loss: 3.8572e-04 - val_loss: 3.9678e-04\n",
      "Epoch 61/100\n",
      "20/20 [==============================] - 4s 217ms/step - loss: 4.0937e-04 - val_loss: 3.2133e-04\n",
      "Epoch 62/100\n",
      "20/20 [==============================] - 5s 233ms/step - loss: 4.4159e-04 - val_loss: 3.4243e-04\n",
      "Epoch 63/100\n",
      "20/20 [==============================] - 4s 219ms/step - loss: 3.5644e-04 - val_loss: 3.9237e-04\n",
      "Epoch 64/100\n",
      "20/20 [==============================] - 4s 213ms/step - loss: 3.6223e-04 - val_loss: 5.9346e-04\n",
      "Epoch 65/100\n",
      "20/20 [==============================] - 4s 211ms/step - loss: 4.5174e-04 - val_loss: 3.8847e-04\n",
      "Epoch 66/100\n",
      "20/20 [==============================] - 4s 212ms/step - loss: 3.3959e-04 - val_loss: 3.3311e-04\n",
      "Epoch 67/100\n",
      "20/20 [==============================] - 4s 211ms/step - loss: 4.0712e-04 - val_loss: 4.9975e-04\n",
      "Epoch 68/100\n",
      "20/20 [==============================] - 4s 212ms/step - loss: 3.4143e-04 - val_loss: 3.6474e-04\n",
      "Epoch 69/100\n",
      "20/20 [==============================] - 5s 251ms/step - loss: 3.3584e-04 - val_loss: 3.9629e-04\n",
      "Epoch 70/100\n",
      "20/20 [==============================] - 5s 252ms/step - loss: 3.6141e-04 - val_loss: 4.1687e-04\n",
      "Epoch 71/100\n",
      "20/20 [==============================] - 5s 231ms/step - loss: 3.4059e-04 - val_loss: 3.5982e-04\n",
      "Epoch 72/100\n",
      "20/20 [==============================] - 6s 285ms/step - loss: 3.0997e-04 - val_loss: 3.0380e-04\n",
      "Epoch 73/100\n",
      "20/20 [==============================] - 4s 222ms/step - loss: 3.0626e-04 - val_loss: 3.6758e-04\n",
      "Epoch 74/100\n",
      "20/20 [==============================] - 5s 243ms/step - loss: 3.2037e-04 - val_loss: 3.5037e-04\n",
      "Epoch 75/100\n",
      "20/20 [==============================] - 4s 218ms/step - loss: 3.0318e-04 - val_loss: 2.8234e-04\n",
      "Epoch 76/100\n"
     ]
    },
    {
     "name": "stdout",
     "output_type": "stream",
     "text": [
      "20/20 [==============================] - 4s 212ms/step - loss: 3.1501e-04 - val_loss: 3.8243e-04\n",
      "Epoch 77/100\n",
      "20/20 [==============================] - 4s 213ms/step - loss: 2.9329e-04 - val_loss: 2.5216e-04\n",
      "Epoch 78/100\n",
      "20/20 [==============================] - 4s 215ms/step - loss: 3.0307e-04 - val_loss: 2.8173e-04\n",
      "Epoch 79/100\n",
      "20/20 [==============================] - 4s 211ms/step - loss: 3.3788e-04 - val_loss: 3.8943e-04\n",
      "Epoch 80/100\n",
      "20/20 [==============================] - 4s 210ms/step - loss: 3.1893e-04 - val_loss: 2.7292e-04\n",
      "Epoch 81/100\n",
      "20/20 [==============================] - 4s 211ms/step - loss: 4.3637e-04 - val_loss: 2.7016e-04\n",
      "Epoch 82/100\n",
      "20/20 [==============================] - 4s 210ms/step - loss: 3.0156e-04 - val_loss: 3.0485e-04\n",
      "Epoch 83/100\n",
      "20/20 [==============================] - 4s 208ms/step - loss: 2.7501e-04 - val_loss: 2.5996e-04\n",
      "Epoch 84/100\n",
      "20/20 [==============================] - 4s 218ms/step - loss: 3.0169e-04 - val_loss: 2.4615e-04\n",
      "Epoch 85/100\n",
      "20/20 [==============================] - 4s 210ms/step - loss: 2.7998e-04 - val_loss: 2.5452e-04\n",
      "Epoch 86/100\n",
      "20/20 [==============================] - 4s 210ms/step - loss: 2.9779e-04 - val_loss: 2.4536e-04\n",
      "Epoch 87/100\n",
      "20/20 [==============================] - 4s 209ms/step - loss: 3.4292e-04 - val_loss: 2.7511e-04\n",
      "Epoch 88/100\n",
      "20/20 [==============================] - 4s 208ms/step - loss: 3.4307e-04 - val_loss: 3.8315e-04\n",
      "Epoch 89/100\n",
      "20/20 [==============================] - 4s 211ms/step - loss: 3.1413e-04 - val_loss: 3.5666e-04\n",
      "Epoch 90/100\n",
      "20/20 [==============================] - 4s 211ms/step - loss: 2.7757e-04 - val_loss: 2.8491e-04\n",
      "Epoch 91/100\n",
      "20/20 [==============================] - 4s 212ms/step - loss: 2.7018e-04 - val_loss: 2.2898e-04\n",
      "Epoch 92/100\n",
      "20/20 [==============================] - 4s 208ms/step - loss: 2.7165e-04 - val_loss: 2.8143e-04\n",
      "Epoch 93/100\n",
      "20/20 [==============================] - 4s 209ms/step - loss: 2.4775e-04 - val_loss: 2.5305e-04\n",
      "Epoch 94/100\n",
      "20/20 [==============================] - 4s 208ms/step - loss: 2.6793e-04 - val_loss: 2.9700e-04\n",
      "Epoch 95/100\n",
      "20/20 [==============================] - 4s 211ms/step - loss: 2.6980e-04 - val_loss: 2.3262e-04\n",
      "Epoch 96/100\n",
      "20/20 [==============================] - 4s 211ms/step - loss: 2.5974e-04 - val_loss: 2.3865e-04\n",
      "Epoch 97/100\n",
      "20/20 [==============================] - 4s 210ms/step - loss: 3.4167e-04 - val_loss: 2.1278e-04\n",
      "Epoch 98/100\n",
      "20/20 [==============================] - 4s 211ms/step - loss: 2.5573e-04 - val_loss: 2.4540e-04\n",
      "Epoch 99/100\n",
      "20/20 [==============================] - 4s 218ms/step - loss: 4.2014e-04 - val_loss: 2.1394e-04\n",
      "Epoch 100/100\n",
      "20/20 [==============================] - 5s 237ms/step - loss: 3.9356e-04 - val_loss: 2.4486e-04\n"
     ]
    },
    {
     "data": {
      "text/plain": [
       "<keras.callbacks.History at 0x20d02d1dcd0>"
      ]
     },
     "execution_count": 27,
     "metadata": {},
     "output_type": "execute_result"
    }
   ],
   "source": [
    "#fit the model\n",
    "model.fit(X_train, y_train, validation_data=(X_test, y_test), epochs=100,  batch_size=64, verbose=1)"
   ]
  },
  {
   "cell_type": "code",
   "execution_count": 31,
   "metadata": {},
   "outputs": [
    {
     "name": "stdout",
     "output_type": "stream",
     "text": [
      "39/39 [==============================] - 2s 55ms/step\n",
      "20/20 [==============================] - 1s 50ms/step\n"
     ]
    }
   ],
   "source": [
    "#Do the prediction and check performance matrix\n",
    "train_predict = model.predict(X_train)\n",
    "test_predict = model.predict(X_test)"
   ]
  },
  {
   "cell_type": "code",
   "execution_count": 32,
   "metadata": {},
   "outputs": [],
   "source": [
    "# transform to original form\n",
    "train_predict = scaler.inverse_transform(train_predict)\n",
    "test_predict = scaler.inverse_transform(test_predict)"
   ]
  },
  {
   "cell_type": "code",
   "execution_count": 33,
   "metadata": {},
   "outputs": [
    {
     "data": {
      "text/plain": [
       "167.57403588744367"
      ]
     },
     "execution_count": 33,
     "metadata": {},
     "output_type": "execute_result"
    }
   ],
   "source": [
    "#calculate RNSE value\n",
    "import math\n",
    "from sklearn.metrics import mean_squared_error\n",
    "math.sqrt(mean_squared_error(y_train, train_predict))"
   ]
  },
  {
   "cell_type": "code",
   "execution_count": 34,
   "metadata": {},
   "outputs": [
    {
     "data": {
      "text/plain": [
       "116.50349704092453"
      ]
     },
     "execution_count": 34,
     "metadata": {},
     "output_type": "execute_result"
    }
   ],
   "source": [
    "#Test data RNSE\n",
    "math.sqrt(mean_squared_error(y_test, test_predict))"
   ]
  },
  {
   "cell_type": "code",
   "execution_count": 36,
   "metadata": {},
   "outputs": [
    {
     "data": {
      "image/png": "[encoded data removed]",
      "text/plain": [
       "<Figure size 432x288 with 1 Axes>"
      ]
     },
     "metadata": {
      "needs_background": "light"
     },
     "output_type": "display_data"
    }
   ],
   "source": [
    "#Graph plot\n",
    "#shift train predictions for plotting\n",
    "look_back = 100\n",
    "trainPredictPlot =numpy.empty_like(df2)\n",
    "trainPredictPlot[:, :] = np.nan\n",
    "trainPredictPlot[look_back:len(train_predict)+look_back, :] = train_predict\n",
    "\n",
    "#shift test prediction for plotting\n",
    "testPredictPlot = numpy.empty_like(df2)\n",
    "testPredictPlot[:, :] = np.nan\n",
    "testPredictPlot[len(train_predict)+(look_back*2)+1:len(df2)-1, :] = test_predict\n",
    "\n",
    "#plot baseline and prediction\n",
    "plt.plot(scaler.inverse_transform(df2))\n",
    "plt.plot(trainPredictPlot)\n",
    "plt.plot(testPredictPlot)\n",
    "plt.show()"
   ]
  },
  {
   "cell_type": "code",
   "execution_count": null,
   "metadata": {},
   "outputs": [],
   "source": []
  }
 ],
 "metadata": {
  "kernelspec": {
   "display_name": "Python 3",
   "language": "python",
   "name": "python3"
  },
  "language_info": {
   "codemirror_mode": {
    "name": "ipython",
    "version": 3
   },
   "file_extension": ".py",
   "mimetype": "text/x-python",
   "name": "python",
   "nbconvert_exporter": "python",
   "pygments_lexer": "ipython3",
   "version": "3.8.5"
  }
 },
 "nbformat": 4,
 "nbformat_minor": 4
}
